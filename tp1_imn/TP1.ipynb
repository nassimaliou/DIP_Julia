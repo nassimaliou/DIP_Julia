{
 "cells": [
  {
   "cell_type": "code",
   "execution_count": null,
   "metadata": {},
   "outputs": [],
   "source": [
    "import numpy as np\n",
    "from matplotlib import pyplot as plt, image\n",
    "from PIL import Image\n",
    "from skimage.util import random_noise\n",
    "from skimage.filters import median, gaussian\n",
    "from scipy.ndimage import convolve"
   ]
  },
  {
   "cell_type": "markdown",
   "metadata": {},
   "source": [
    "# Q1 : Lire une image A en couleur de format  .JPEG"
   ]
  },
  {
   "cell_type": "code",
   "execution_count": null,
   "metadata": {},
   "outputs": [],
   "source": [
    "A_jpeg = image.imread('images/A.jpeg')"
   ]
  },
  {
   "cell_type": "markdown",
   "metadata": {},
   "source": [
    "# Q2 : Afficher A sur l'écran."
   ]
  },
  {
   "cell_type": "code",
   "execution_count": null,
   "metadata": {},
   "outputs": [],
   "source": [
    "plt.imshow(A_jpeg)"
   ]
  },
  {
   "cell_type": "markdown",
   "metadata": {},
   "source": [
    "# Q3 : Afficher les dimensions de A"
   ]
  },
  {
   "cell_type": "code",
   "execution_count": null,
   "metadata": {},
   "outputs": [],
   "source": [
    "A_width, A_height, _ = A_jpeg.shape\n",
    "print(\"Hauteur {0} px \\nLargeur {1} px\".format(A_width,A_height))"
   ]
  },
  {
   "cell_type": "markdown",
   "metadata": {},
   "source": [
    "# Q4 : Sauvegarder A sous format .PNG et .TIFF"
   ]
  },
  {
   "cell_type": "code",
   "execution_count": null,
   "metadata": {},
   "outputs": [],
   "source": [
    "#1\n",
    "image.imsave(\"images/A.png\", A_jpeg)\n",
    "image.imsave(\"images/A.tiff\", A_jpeg)"
   ]
  },
  {
   "cell_type": "markdown",
   "metadata": {},
   "source": [
    "# Q5 : Afficher leurs dimensions et leurs tailles."
   ]
  },
  {
   "cell_type": "code",
   "execution_count": null,
   "metadata": {},
   "outputs": [],
   "source": [
    "width_png, height_png = Image.open('images/A.png').size\n",
    "width_tiff, height_tiff = Image.open('images/A.tiff').size\n",
    "\n",
    "print(\"TIFF :\\n     Hauteur: {0} px \\n      Largeur: {1} px\\n      Taille: {2}MB\".format(width_tiff, height_tiff, os.path.getsize(\"images/A.tiff\")/1000000))\n",
    "print(\"PNG :\\n      Hauteur: {0} px \\n      Largeur: {1} px\\n      Taille: {2}MB\".format(width_png, height_png, os.path.getsize(\"images/A.png\")/1000000))\n",
    "print(\"JPEG :\\n     Hauteur: {0} px \\n      Largeur: {1} px\\n      Taille: {2}MB\".format(A_width, A_height, os.path.getsize(\"images/A.jpeg\")/1000000))"
   ]
  },
  {
   "cell_type": "markdown",
   "metadata": {},
   "source": [
    "# Q6 : Comparer les 3 formats"
   ]
  },
  {
   "cell_type": "markdown",
   "metadata": {},
   "source": [
    "# Q7 : Afficher A en niveaux de rouge, niveaux du vert et en niveaux du bleu"
   ]
  },
  {
   "cell_type": "markdown",
   "metadata": {},
   "source": [
    "### 1) Rouge"
   ]
  },
  {
   "cell_type": "code",
   "execution_count": null,
   "metadata": {},
   "outputs": [],
   "source": [
    "Red = A_jpeg.copy()\n",
    "Red[:,:,1:] = 0\n",
    "plt.imshow(Red)"
   ]
  },
  {
   "cell_type": "markdown",
   "metadata": {},
   "source": [
    "### 2) Vert"
   ]
  },
  {
   "cell_type": "code",
   "execution_count": null,
   "metadata": {},
   "outputs": [],
   "source": [
    "Green = A_jpeg.copy()\n",
    "Green[:,:,::2] = 0\n",
    "plt.imshow(Green)"
   ]
  },
  {
   "cell_type": "markdown",
   "metadata": {},
   "source": [
    "### 3) Bleu"
   ]
  },
  {
   "cell_type": "code",
   "execution_count": null,
   "metadata": {},
   "outputs": [],
   "source": [
    "Blue = A_jpeg.copy()\n",
    "Blue[:,:,:2] = 0\n",
    "plt.imshow(Blue)"
   ]
  },
  {
   "cell_type": "markdown",
   "metadata": {},
   "source": [
    "# Q8 : Reconstruire l'image initiale à partir de ces 3 niveaux"
   ]
  },
  {
   "cell_type": "code",
   "execution_count": null,
   "metadata": {},
   "outputs": [],
   "source": [
    "rgbA = Red + Green + Blue\n",
    "plt.imshow(rgbA)"
   ]
  },
  {
   "cell_type": "markdown",
   "metadata": {},
   "source": [
    "# Q9 : Convertir A en niveaux de gris"
   ]
  },
  {
   "cell_type": "code",
   "execution_count": null,
   "metadata": {},
   "outputs": [],
   "source": [
    "def rgb2gray(r, g, b):\n",
    "    \n",
    "    gray = 0.2989 * r + 0.5870 * g + 0.1140 * b\n",
    "\n",
    "    return gray\n",
    "\n",
    "A_Grey =  rgb2gray(Red[:,:,0], Green[:,:,1], Blue[:,:,2])\n",
    "plt.imshow(A_Grey, cmap=\"gray\")"
   ]
  },
  {
   "cell_type": "markdown",
   "metadata": {},
   "source": [
    "# Q10 : Convertir A en binaire."
   ]
  },
  {
   "cell_type": "code",
   "execution_count": null,
   "metadata": {},
   "outputs": [],
   "source": [
    "def gray2binary(img, threshHold = 128):\n",
    "    res = img.copy()\n",
    "    res[res > threshHold] = 255\n",
    "    res[res <= threshHold] = 0\n",
    "    return res\n",
    "\n",
    "A_Binary =  gray2binary(A_Grey)\n",
    "plt.imshow(A_Binary, cmap=\"gray\")"
   ]
  },
  {
   "cell_type": "markdown",
   "metadata": {},
   "source": [
    "# Q11 : Trouver l'image inverse de A et l'afficher"
   ]
  },
  {
   "cell_type": "code",
   "execution_count": null,
   "metadata": {},
   "outputs": [],
   "source": [
    "A_Inverse = 255 - A_jpeg\n",
    "plt.imshow(A_Inverse)"
   ]
  },
  {
   "cell_type": "markdown",
   "metadata": {},
   "source": [
    "# Q12 : Ajouter un bruit à A"
   ]
  },
  {
   "cell_type": "code",
   "execution_count": null,
   "metadata": {},
   "outputs": [],
   "source": [
    "salt_peper = random_noise(A_Grey, mode=\"s&p\", seed=None, clip=True, amount=0.3)*255\n",
    "plt.imshow(salt_peper + A_Grey, cmap=\"gray\")"
   ]
  },
  {
   "cell_type": "code",
   "execution_count": null,
   "metadata": {},
   "outputs": [],
   "source": [
    "gauss = random_noise(A_Grey, mode=\"gaussian\", seed=None, clip=True) * 255\n",
    "plt.imshow(gauss + A_Grey, cmap=\"gray\")"
   ]
  },
  {
   "cell_type": "markdown",
   "metadata": {},
   "source": [
    "# Q13 : Filtrer ces deux images bruitées"
   ]
  },
  {
   "cell_type": "code",
   "execution_count": null,
   "metadata": {},
   "outputs": [],
   "source": [
    "filter_sp = median(salt_peper + A_Grey)\n",
    "plt.imshow(filter_sp, cmap=\"gray\")"
   ]
  },
  {
   "cell_type": "code",
   "execution_count": null,
   "metadata": {},
   "outputs": [],
   "source": [
    "filter_g = gaussian(gauss + A_Grey)\n",
    "plt.imshow(filter_g, cmap=\"gray\")"
   ]
  },
  {
   "cell_type": "code",
   "execution_count": null,
   "metadata": {},
   "outputs": [],
   "source": [
    "filter_g2 = convolve(gauss + A_Grey, np.ones((3,3))/9)\n",
    "plt.imshow(filter_g2, cmap=\"gray\")"
   ]
  }
 ],
 "metadata": {
  "interpreter": {
   "hash": "042f1467ab0111aa983a1a2722ed4e9691068ebac51e10c18c39c936081e164b"
  },
  "kernelspec": {
   "display_name": "Python 3.10.2 64-bit (windows store)",
   "language": "python",
   "name": "python3"
  },
  "language_info": {
   "codemirror_mode": {
    "name": "ipython",
    "version": 3
   },
   "file_extension": ".py",
   "mimetype": "text/x-python",
   "name": "python",
   "nbconvert_exporter": "python",
   "pygments_lexer": "ipython3",
   "version": "3.10.2"
  },
  "orig_nbformat": 4
 },
 "nbformat": 4,
 "nbformat_minor": 2
}
